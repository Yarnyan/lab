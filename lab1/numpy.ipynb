{
  "cells": [
    {
      "cell_type": "markdown",
      "metadata": {
        "id": "vC84e9kzyxPy"
      },
      "source": [
        "<h1>Импорт библиотек"
      ]
    },
    {
      "cell_type": "code",
      "execution_count": 3,
      "metadata": {
        "id": "cgKeNegmQG5S"
      },
      "outputs": [],
      "source": [
        "import numpy as np\n",
        "import matplotlib.pyplot as plt"
      ]
    },
    {
      "cell_type": "markdown",
      "metadata": {
        "id": "qFM9uVU2x4Ls"
      },
      "source": [
        "<h1>Задача 1. Дан набор из $p$ матриц размерностью $(n, n)$ и $p$ векторов размерностью $(n, 1)$, найти сумму произведений матриц на векторы. Написать тесты для кода"
      ]
    },
    {
      "cell_type": "code",
      "execution_count": null,
      "metadata": {
        "id": "IAbUvEiYyWFF"
      },
      "outputs": [],
      "source": [
        "import numpy as np\n",
        "import matplotlib.pyplot as plt\n",
        "import unittest\n",
        "\n",
        "def sum_prod(X, V):\n",
        "    '''\n",
        "    X - матрицы (p, n, n)\n",
        "    V - векторы (p, n, 1)\n",
        "    Гарантируется, что len(X) == len(V)\n",
        "    '''\n",
        "    result = np.zeros((X[0].shape[0], 1))\n",
        "    for x, v in zip(X, V):\n",
        "        result += np.dot(x, v) \n",
        "    return result\n",
        "\n",
        "class TestSumProd(unittest.TestCase):\n",
        "    def test_basic_case(self):\n",
        "        X = [np.array([[1, 2], [3, 4]]), np.array([[5, 6], [7, 8]])]\n",
        "        V = [np.array([[1], [1]]), np.array([[1], [1]])]\n",
        "        result = sum_prod(X, V)\n",
        "        expected = np.array([[1+2 + 5 + 6], [3+4 + 7 + 8]])\n",
        "        print(result)\n",
        "        np.testing.assert_array_equal(result, expected)\n",
        "\n",
        "    def test_single_matrix_vector(self):\n",
        "        X = [np.array([[2, 0], [0, 3]])]\n",
        "        V = [np.array([[1], [1]])]\n",
        "        result = sum_prod(X, V)\n",
        "        expected = np.array([[2], [3]])\n",
        "        print(result)\n",
        "        np.testing.assert_array_equal(result, expected)\n",
        "\n",
        "    def test_zero_matrices(self):\n",
        "        X = [np.zeros((2, 2)), np.zeros((2, 2))]\n",
        "        V = [np.array([[1], [1]]), np.array([[1], [1]])]\n",
        "        result = sum_prod(X, V)\n",
        "        expected = np.zeros((2, 1))\n",
        "        print(result)\n",
        "        np.testing.assert_array_equal(result, expected)\n",
        "\n",
        "if __name__ == \"__main__\":\n",
        "    unittest.main()"
      ]
    },
    {
      "cell_type": "markdown",
      "metadata": {
        "id": "TKwPG4fIy2w4"
      },
      "source": [
        "<h1>Задача 2. Дана матрица M, напишите функцию, которая бинаризует матрицу по некоторому threshold (то есть, все значения большие threshold становятся равными 1, иначе 0). Напишите тесты для кода"
      ]
    },
    {
      "cell_type": "code",
      "execution_count": null,
      "metadata": {
        "id": "KQDNMgsjRNH7"
      },
      "outputs": [],
      "source": [
        "import numpy as np\n",
        "import matplotlib.pyplot as plt\n",
        "import unittest\n",
        "\n",
        "def binarize(M, threshold=0.5):\n",
        "    return (M > threshold).astype(int)\n",
        "\n",
        "class TestBinarize(unittest.TestCase):\n",
        "    def test_basic_case(self):\n",
        "        M = np.array([[0.1, 0.6], [0.8, 0.3]])\n",
        "        result = binarize(M, threshold=0.5)\n",
        "        expected = np.array([[0, 1], [1, 0]])\n",
        "        np.testing.assert_array_equal(result, expected)\n",
        "\n",
        "    def test_all_ones(self):\n",
        "        M = np.array([[0.7, 0.8], [0.9, 1.0]])\n",
        "        result = binarize(M, threshold=0.5)\n",
        "        expected = np.array([[1, 1], [1, 1]])\n",
        "        np.testing.assert_array_equal(result, expected)\n",
        "\n",
        "    def test_all_zeros(self):\n",
        "        M = np.array([[0.1, 0.2], [0.3, 0.4]])\n",
        "        result = binarize(M, threshold=0.5)\n",
        "        expected = np.array([[0, 0], [0, 0]])\n",
        "        np.testing.assert_array_equal(result, expected)\n",
        "\n",
        "    def test_different_threshold(self):\n",
        "        M = np.array([[0.1, 0.6], [0.8, 0.3]])\n",
        "        result = binarize(M, threshold=0.7)\n",
        "        expected = np.array([[0, 0], [1, 0]])\n",
        "        np.testing.assert_array_equal(result, expected)\n",
        "\n",
        "    def test_zero_threshold(self):\n",
        "        M = np.array([[0.0, 0.2], [0.5, 1.0]])\n",
        "        result = binarize(M, threshold=0.0)\n",
        "        expected = np.array([[0, 1], [1, 1]])\n",
        "        np.testing.assert_array_equal(result, expected)\n",
        "\n",
        "if __name__ == \"__main__\":\n",
        "    unittest.main()"
      ]
    },
    {
      "cell_type": "markdown",
      "metadata": {
        "id": "IY5L-h-7zWhN"
      },
      "source": [
        "<h1>Задача 3. Напишите функцию, которая возвращает уникальные элементы из каждой строки матрицы. Напишите такую же функцию, но для столбцов. Напишите тесты для кода"
      ]
    },
    {
      "cell_type": "code",
      "execution_count": null,
      "metadata": {
        "id": "-8dEZhR0SBC-"
      },
      "outputs": [],
      "source": [
        "import numpy as np\n",
        "import matplotlib.pyplot as plt\n",
        "import unittest\n",
        "\n",
        "def unique_rows(mat):\n",
        "    return [np.unique(row) for row in mat]\n",
        "\n",
        "def unique_columns(mat):\n",
        "    return [np.unique(col) for col in mat.T]\n",
        "\n",
        "class TestUnique(unittest.TestCase):\n",
        "    def test_unique_rows(self):\n",
        "        mat = np.array([[1, 2, 2], [3, 3, 4], [5, 5, 5]])\n",
        "        result = unique_rows(mat)\n",
        "        expected = [np.array([1, 2]), np.array([3, 4]), np.array([5])]\n",
        "        for res, exp in zip(result, expected):\n",
        "            np.testing.assert_array_equal(res, exp)\n",
        "\n",
        "    def test_unique_columns(self):\n",
        "        mat = np.array([[1, 2, 2], [3, 3, 4], [1, 5, 5]])\n",
        "        result = unique_columns(mat)\n",
        "        expected = [np.array([1, 3]), np.array([2, 3, 5]), np.array([2, 4, 5])]\n",
        "        for res, exp in zip(result, expected):\n",
        "            np.testing.assert_array_equal(res, exp)\n",
        "\n",
        "    def test_all_unique(self):\n",
        "        mat = np.array([[1, 2, 3], [4, 5, 6], [7, 8, 9]])\n",
        "        result_rows = unique_rows(mat)\n",
        "        result_columns = unique_columns(mat)\n",
        "        expected_rows = [np.array([1, 2, 3]), np.array([4, 5, 6]), np.array([7, 8, 9])]\n",
        "        expected_columns = [np.array([1, 4, 7]), np.array([2, 5, 8]), np.array([3, 6, 9])]\n",
        "        for res, exp in zip(result_rows, expected_rows):\n",
        "            np.testing.assert_array_equal(res, exp)\n",
        "        for res, exp in zip(result_columns, expected_columns):\n",
        "            np.testing.assert_array_equal(res, exp)\n",
        "\n",
        "if __name__ == \"__main__\":\n",
        "    unittest.main()"
      ]
    },
    {
      "cell_type": "markdown",
      "metadata": {
        "id": "roYAlo4Jz-lH"
      },
      "source": [
        "<h1>Задача 4. Напишите функцию, которая заполняет матрицу с размерами $(m, n)$ случайными числами, распределенными по нормальному закону. Затем считает мат. ожидание и дисперсию для каждого из столбцов и строк, а также строит для каждой строки и столбца гистограмму значений (использовать функцию hist из модуля matplotlib.plot)"
      ]
    },
    {
      "cell_type": "code",
      "execution_count": null,
      "metadata": {
        "id": "nZK_71hMSQzv"
      },
      "outputs": [],
      "source": [
        "import numpy as np\n",
        "import matplotlib.pyplot as plt\n",
        "import unittest\n",
        "\n",
        "def generate_matrix_and_statistics(m, n):\n",
        "\n",
        "    matrix = np.random.normal(loc=0, scale=1, size=(m, n))\n",
        "\n",
        "    row_means = np.mean(matrix, axis=1)\n",
        "    row_vars = np.var(matrix, axis=1)\n",
        "    col_means = np.mean(matrix, axis=0)\n",
        "    col_vars = np.var(matrix, axis=0)\n",
        "\n",
        "    for i in range(m):\n",
        "        plt.figure()\n",
        "        plt.hist(matrix[i, :], bins=10, alpha=0.7)\n",
        "        plt.title(f'Гистограмма для строки {i + 1}')\n",
        "        plt.xlabel('Значения')\n",
        "        plt.ylabel('Частота')\n",
        "        plt.show()\n",
        "        plt.close()\n",
        "\n",
        "    for j in range(n):\n",
        "        plt.figure()\n",
        "        plt.hist(matrix[:, j], bins=10, alpha=0.7)\n",
        "        plt.title(f'Гистограмма для столбца {j + 1}')\n",
        "        plt.xlabel('Значения')\n",
        "        plt.ylabel('Частота')\n",
        "        plt.show()\n",
        "        plt.close()\n",
        "\n",
        "    return matrix, row_means, row_vars, col_means, col_vars\n",
        "\n",
        "#тут графики будут после каждого закрытия, не пугайтесь, просто прокликайте закрытие\n",
        "class TestMatrixStatistics(unittest.TestCase):\n",
        "    def test_matrix_shape(self):\n",
        "        m, n = 5, 4\n",
        "        matrix, _, _, _, _ = generate_matrix_and_statistics(m, n)\n",
        "        self.assertEqual(matrix.shape, (m, n))\n",
        "\n",
        "    def test_means_and_vars(self):\n",
        "        m, n = 5, 4\n",
        "        matrix, row_means, row_vars, col_means, col_vars = generate_matrix_and_statistics(m, n)\n",
        "\n",
        "        self.assertTrue(np.allclose(row_means, np.mean(matrix, axis=1)))\n",
        "        self.assertTrue(np.allclose(row_vars, np.var(matrix, axis=1)))\n",
        "        self.assertTrue(np.allclose(col_means, np.mean(matrix, axis=0)))\n",
        "        self.assertTrue(np.allclose(col_vars, np.var(matrix, axis=0)))\n",
        "\n",
        "if __name__ == \"__main__\":\n",
        "    unittest.main()\n"
      ]
    },
    {
      "cell_type": "markdown",
      "metadata": {
        "id": "BDyATNdM0dJ2"
      },
      "source": [
        "<h1>Задача 5. Напишите функцию, которая заполняет матрицу $(m, n)$ в шахматном порядке заданными числами $a$ и $b$. Напишите тесты для кода"
      ]
    },
    {
      "cell_type": "code",
      "execution_count": null,
      "metadata": {
        "id": "RWNJYWQGecS6"
      },
      "outputs": [],
      "source": [
        "import numpy as np\n",
        "import matplotlib.pyplot as plt\n",
        "import unittest\n",
        "\n",
        "def chess(m, n, a, b):\n",
        "    matrix = []\n",
        "    for i in range(m):\n",
        "        row = []\n",
        "        for j in range(n):\n",
        "            if (i + j) % 2 == 0:\n",
        "                row.append(a)\n",
        "            else:\n",
        "                row.append(b)\n",
        "        matrix.append(row)\n",
        "    return matrix\n",
        "\n",
        "class TestChess(unittest.TestCase):\n",
        "    def test_3x3(self):\n",
        "        self.assertEqual(\n",
        "            chess(3, 3, 1, 0),\n",
        "            [\n",
        "                [1, 0, 1],\n",
        "                [0, 1, 0],\n",
        "                [1, 0, 1]\n",
        "            ]\n",
        "        )\n",
        "    \n",
        "    def test_4x4(self):\n",
        "        self.assertEqual(\n",
        "            chess(4, 4, 'a', 'b'),\n",
        "            [\n",
        "                ['a', 'b', 'a', 'b'],\n",
        "                ['b', 'a', 'b', 'a'],\n",
        "                ['a', 'b', 'a', 'b'],\n",
        "                ['b', 'a', 'b', 'a']\n",
        "            ]\n",
        "        )\n",
        "\n",
        "    def test_2x5(self):\n",
        "        self.assertEqual(\n",
        "            chess(2, 5, 3, 4),\n",
        "            [\n",
        "                [3, 4, 3, 4, 3],\n",
        "                [4, 3, 4, 3, 4]\n",
        "            ]\n",
        "        )\n",
        "\n",
        "    def test_1x1(self):\n",
        "        self.assertEqual(\n",
        "            chess(1, 1, 7, 9),\n",
        "            [[7]]\n",
        "        )\n",
        "\n",
        "    def test_2x2(self):\n",
        "        self.assertEqual(\n",
        "            chess(2, 2, 1, 2),\n",
        "            [\n",
        "                [1, 2],\n",
        "                [2, 1]\n",
        "            ]\n",
        "        )\n",
        "\n",
        "if __name__ == '__main__':\n",
        "    unittest.main()\n"
      ]
    },
    {
      "cell_type": "markdown",
      "metadata": {
        "id": "-ymXLtTN0vB6"
      },
      "source": [
        "<h1>Задача 6. Напишите функцию, которая отрисовывает прямоугольник с заданными размерами (a, b) на изображении размера (m, n), цвет фона задайте в схеме RGB, как и цвет прямоугольника. Цвета также должны быть параметрами функции. Напишите аналогичную функцию но для овала с полуосями a и b. Напишите тесты для кода.\n",
        "Примечание: уравнение эллипса (границы овала) можно записать как:\n",
        "<h1>$\\frac{(x-x_0)^2}{a^2}+\\frac{(y-y_0)^2}{b^2}=1$"
      ]
    },
    {
      "cell_type": "code",
      "execution_count": 1,
      "metadata": {
        "id": "sNfl1t_kfOF4"
      },
      "outputs": [],
      "source": [
        "import numpy as np\n",
        "import matplotlib.pyplot as plt\n",
        "import unittest\n",
        "from PIL import Image, ImageDraw\n",
        "\n",
        "def draw_rectangle(a, b, m, n, rectangle_color, background_color):\n",
        "\n",
        "    image = Image.new(\"RGB\", (n, m), background_color)\n",
        "    draw = ImageDraw.Draw(image)\n",
        "\n",
        "    #границы\n",
        "    top_left = (0, 0)\n",
        "    bottom_right = (a, b)\n",
        "\n",
        "    draw.rectangle([top_left, bottom_right], fill=rectangle_color)\n",
        "\n",
        "    return image\n",
        "\n",
        "def draw_ellipse(a, b, m, n, ellipse_color, background_color):\n",
        "    image = Image.new(\"RGB\", (n, m), background_color)\n",
        "    draw = ImageDraw.Draw(image)\n",
        "\n",
        "    #границы\n",
        "    left = (n - a) // 2\n",
        "    right = left + a\n",
        "    top = (m - b) // 2\n",
        "    bottom = top + b\n",
        "\n",
        "    draw.ellipse([left, top, right, bottom], fill=ellipse_color)\n",
        "\n",
        "    return image\n",
        "\n",
        "\n",
        "#тесты\n",
        "class TestShapes(unittest.TestCase):\n",
        "    def test_draw_rectangle(self):\n",
        "\n",
        "        a, b = 100, 50\n",
        "        m, n = 200, 200\n",
        "        rectangle_color = (255, 0, 0) \n",
        "        background_color = (255, 255, 255) \n",
        "\n",
        "        image = draw_rectangle(a, b, m, n, rectangle_color, background_color)\n",
        "\n",
        "        self.assertEqual(image.size, (n, m))\n",
        "\n",
        "        self.assertEqual(image.getpixel((0, 0)), background_color)\n",
        "\n",
        "        self.assertEqual(image.getpixel((50, 25)), rectangle_color)\n",
        "        self.assertEqual(image.getpixel((0, 0)), background_color)\n",
        "\n",
        "    def test_draw_ellipse(self):\n",
        "        a, b = 100, 50\n",
        "        m, n = 200, 200\n",
        "        ellipse_color = (0, 0, 255)\n",
        "        background_color = (255, 255, 255)\n",
        "        \n",
        "        image = draw_ellipse(a, b, m, n, ellipse_color, background_color)\n",
        "\n",
        "        self.assertEqual(image.size, (n, m))\n",
        "\n",
        "        self.assertEqual(image.getpixel((0, 0)), background_color)\n",
        "\n",
        "        self.assertEqual(image.getpixel((100, 100)), ellipse_color) \n",
        "        self.assertEqual(image.getpixel((0, 0)), background_color)\n",
        "\n",
        "if __name__ == '__main__':\n",
        "    unittest.main()\n"
      ]
    },
    {
      "cell_type": "markdown",
      "metadata": {
        "id": "S82c38oz244H"
      },
      "source": [
        "<h1>Задача 7. Дан некий временной ряд. Для данного ряда нужно найти его: математическое ожидание, дисперсию, СКО, найти все локальные максимумы и минимумы (локальный максимум - это точка, которая больше своих соседних точек, а локальный минимум - это точка, которая меньше своих соседей), а также вычислить для данного ряда другой ряд, получаемый методом скользящего среднего с размером окна $p$.\n",
        "<h1>Примечание: метод скользящего среднего подразумевает нахождение среднего из подмножетсва ряда размером $p$"
      ]
    },
    {
      "cell_type": "code",
      "execution_count": null,
      "metadata": {
        "id": "Zb9mIVge5MMt"
      },
      "outputs": [],
      "source": [
        "import numpy as np\n",
        "import unittest\n",
        "\n",
        "def calculate_statistics(time_series):\n",
        "    mean = np.mean(time_series)\n",
        "    variance = np.var(time_series)\n",
        "    std_dev = np.std(time_series)\n",
        "    return mean, variance, std_dev\n",
        "\n",
        "def find_local_extrema(time_series):\n",
        "    local_max = []\n",
        "    local_min = []\n",
        "    n = len(time_series)\n",
        "\n",
        "    for i in range(1, n - 1):\n",
        "        if time_series[i] > time_series[i - 1] and time_series[i] > time_series[i + 1]:\n",
        "            local_max.append((i, time_series[i]))\n",
        "        if time_series[i] < time_series[i - 1] and time_series[i] < time_series[i + 1]:\n",
        "            local_min.append((i, time_series[i]))\n",
        "\n",
        "    if n > 1:\n",
        "        if time_series[0] > time_series[1]: \n",
        "            local_max.append((0, time_series[0]))\n",
        "        elif time_series[0] < time_series[1]:\n",
        "            local_min.append((0, time_series[0]))\n",
        "\n",
        "    if n > 1:\n",
        "        if time_series[n - 1] > time_series[n - 2]:  \n",
        "            local_max.append((n - 1, time_series[n - 1]))\n",
        "        elif time_series[n - 1] < time_series[n - 2]:  \n",
        "            local_min.append((n - 1, time_series[n - 1]))\n",
        "\n",
        "    local_min = list(set(local_min))\n",
        "    local_max = list(set(local_max))\n",
        "\n",
        "    return local_max, local_min\n",
        "\n",
        "def moving_average(time_series, p):\n",
        "    return np.convolve(time_series, np.ones(p)/p, mode='valid')\n",
        "\n",
        "# Тесты с использованием unittest\n",
        "class TestTimeSeriesAnalysis(unittest.TestCase):\n",
        "\n",
        "    def setUp(self):\n",
        "\n",
        "        self.time_series = [1, 3, 7, 1, 2, 6, 0, 1, 4, 1]\n",
        "        self.p = 3 \n",
        "\n",
        "    def test_statistics(self):\n",
        "        mean, variance, std_dev = calculate_statistics(self.time_series)\n",
        "        self.assertAlmostEqual(mean, 2.6, places=1)\n",
        "        self.assertAlmostEqual(variance, 5.04, places=2)\n",
        "        self.assertAlmostEqual(std_dev, 2.24, places=2)\n",
        "\n",
        "    def test_local_extrema(self):\n",
        "        local_max, local_min = find_local_extrema(self.time_series)\n",
        "\n",
        "        self.assertEqual(local_max, [(2, 7), (5, 6), (8, 4)])\n",
        "\n",
        "        self.assertEqual(local_min, [(3, 1), (6, 0), (9, 1)])\n",
        "\n",
        "if __name__ == \"__main__\":\n",
        "    unittest.main()\n"
      ]
    },
    {
      "cell_type": "markdown",
      "metadata": {
        "id": "jPkylmOX5O9n"
      },
      "source": [
        "<h1> Задача 8. Дан некоторый вектор с целочисленными метками классов, напишите функцию, которая выполняет one-hot-encoding для данного вектора\n",
        "<h1> One-hot-encoding - представление, в котором на месте метки некоторого класса стоит 1, в остальных позициях стоит 0. Например для вектора [0, 2, 3, 0] one-hot-encoding выглядит как: [[1, 0, 0, 0], [0, 0, 1, 0], [0, 0, 0, 1], [1, 0, 0, 0]]"
      ]
    },
    {
      "cell_type": "code",
      "execution_count": null,
      "metadata": {
        "id": "Y-jlnZvw56lD"
      },
      "outputs": [],
      "source": [
        "import numpy as np\n",
        "import matplotlib.pyplot as plt\n",
        "import unittest\n",
        "\n",
        "def one_hot_encode(vector):\n",
        "    if len(vector) == 0:\n",
        "        return np.array([])\n",
        "\n",
        "    num_classes = np.max(vector) + 1\n",
        "\n",
        "    one_hot_matrix = np.zeros((len(vector), num_classes))\n",
        "    one_hot_matrix[np.arange(len(vector)), vector] = 1\n",
        "    return one_hot_matrix\n",
        "\n",
        "class TestOneHotEncode(unittest.TestCase):\n",
        "    def test_one_hot_encode(self):\n",
        "        vector = np.array([0, 2, 3, 0])\n",
        "        result = one_hot_encode(vector)\n",
        "        expected = np.array([\n",
        "            [1, 0, 0, 0],\n",
        "            [0, 0, 1, 0],\n",
        "            [0, 0, 0, 1],\n",
        "            [1, 0, 0, 0]\n",
        "        ])\n",
        "        np.testing.assert_array_equal(result, expected)\n",
        "\n",
        "    def test_empty_vector(self):\n",
        "        vector = np.array([])\n",
        "        result = one_hot_encode(vector)\n",
        "        expected = np.array([])\n",
        "        np.testing.assert_array_equal(result, expected)\n",
        "\n",
        "if __name__ == '__main__':\n",
        "    unittest.main()"
      ]
    }
  ],
  "metadata": {
    "colab": {
      "provenance": []
    },
    "kernelspec": {
      "display_name": "Python 3",
      "name": "python3"
    },
    "language_info": {
      "name": "python"
    }
  },
  "nbformat": 4,
  "nbformat_minor": 0
}
