{
  "cells": [
    {
      "cell_type": "markdown",
      "metadata": {
        "id": "M-DGa20PaHnu"
      },
      "source": [
        "#Задача 1\n",
        "Написать функцию на вход которой подается строка, состоящая из латинских букв.\n",
        "Функция должна вернуть количество гласных букв (a, e, i, o, u) в этой строке. Написать тесты для кода"
      ]
    },
    {
      "cell_type": "code",
      "execution_count": 4,
      "metadata": {
        "id": "XvX8X_JJ6PCb"
      },
      "outputs": [],
      "source": [
        "import unittest\n",
        "\n",
        "def count_vowels(s):\n",
        "    vowels = 'aeiou'\n",
        "    return sum(1 for char in s.lower() if char in vowels)\n",
        "\n",
        "\n",
        "class TestCountVowels(unittest.TestCase):\n",
        "    def test_empty_string(self):\n",
        "        self.assertEqual(count_vowels(\"\"), 0)\n",
        "\n",
        "    def test_single_vowel(self):\n",
        "        self.assertEqual(count_vowels(\"a\"), 1)\n",
        "\n",
        "    def test_multiple_vowels(self):\n",
        "        self.assertEqual(count_vowels(\"hello world\"), 3)\n",
        "\n",
        "if __name__ == \"__main__\":\n",
        "    unittest.main()"
      ]
    },
    {
      "cell_type": "markdown",
      "metadata": {
        "id": "t2ClV_Y0bbr6"
      },
      "source": [
        "# Задача 2\n",
        "Написать функцию на вход, которой подается строка. Функция должна вернуть true, если\n",
        "каждый символ в строке встречается только 1 раз, иначе должна вернуть false. Написать тесты для кода"
      ]
    },
    {
      "cell_type": "code",
      "execution_count": null,
      "metadata": {
        "id": "FppbECao6VIz"
      },
      "outputs": [],
      "source": [
        "import unittest\n",
        "\n",
        "def all_unique(s):\n",
        "    return len(s) == len(set(s))\n",
        "\n",
        "class TestAllUnique(unittest.TestCase):\n",
        "    def test_unique_string(self):\n",
        "        result = all_unique(\"abcdefg\")\n",
        "        print({result})\n",
        "        self.assertTrue(result)\n",
        "\n",
        "    def test_non_unique_string(self):\n",
        "        result = all_unique(\"hello\")\n",
        "        print({result})\n",
        "        self.assertFalse(result)\n",
        "\n",
        "    def test_empty_string(self):\n",
        "        result = all_unique(\"\")\n",
        "        print({result})\n",
        "        self.assertTrue(result)\n",
        "\n",
        "if __name__ == \"__main__\":\n",
        "    unittest.main()\n"
      ]
    },
    {
      "cell_type": "markdown",
      "metadata": {
        "id": "udRiIK1cdt6E"
      },
      "source": [
        "# Задача 3\n",
        "Написать функцию, которая принимает положительное число и возвращает количество\n",
        "бит равных 1 в этом числе. Написать тесты для кода"
      ]
    },
    {
      "cell_type": "code",
      "execution_count": null,
      "metadata": {
        "id": "6tkfDJRz6dp_"
      },
      "outputs": [],
      "source": [
        "import unittest\n",
        "\n",
        "def count_bits(n: int) -> int:\n",
        "    return bin(n).count('1')\n",
        "\n",
        "\n",
        "class TestCountBits(unittest.TestCase):\n",
        "    def test_zero(self):\n",
        "        result = count_bits(0)\n",
        "        print(result)\n",
        "        self.assertEqual(result, 0)\n",
        "\n",
        "    def test_positive_number(self):\n",
        "        result = count_bits(5)\n",
        "        print(result)\n",
        "        self.assertEqual(result, 2)  \n",
        "\n",
        "    def test_large_number(self):\n",
        "        result = count_bits(1023) \n",
        "        print(result)\n",
        "        self.assertEqual(result, 10) \n",
        "\n",
        "if __name__ == \"__main__\":\n",
        "    unittest.main()\n"
      ]
    },
    {
      "cell_type": "markdown",
      "metadata": {
        "id": "26dDUz-Ae17N"
      },
      "source": [
        "# Задача 4\n",
        "Написать функцию, которая принимает положительное число. Функция должна вернуть то,\n",
        "сколько раз необходимо перемножать цифры числа или результат перемножения, чтобы\n",
        "получилось число состоящее из одной цифры.\n",
        "Например, для входного числа:\n",
        "· 39 функция должна вернуть 3, так как 3*9=27 => 2*7=14 => 1*4=4\n",
        "· 4 функция должна вернуть 0, так как число уже состоит из одной цифры\n",
        "· 999 функция должна вернуть 4, так как 9*9*9=729 => 7*2*9=126 => 1*2*6=12 =>\n",
        "1*2=2. Написать тесты для кода"
      ]
    },
    {
      "cell_type": "code",
      "execution_count": null,
      "metadata": {
        "id": "BH1A_Mgi6i4G"
      },
      "outputs": [],
      "source": [
        "import unittest\n",
        "\n",
        "\n",
        "def magic(n: int) -> int:\n",
        "    steps = 0\n",
        "    while n >= 10:\n",
        "        product = 1\n",
        "        for digit in str(n):\n",
        "            product *= int(digit)\n",
        "        n = product\n",
        "        steps += 1\n",
        "    return steps\n",
        "    \n",
        "class TestMagic(unittest.TestCase):\n",
        "    def test_two_digit_number(self):\n",
        "        result = magic(39)\n",
        "        print(result)\n",
        "        self.assertEqual(result, 3)\n",
        "\n",
        "    def test_large_number(self):\n",
        "        result = magic(999) \n",
        "        print(\"999:\", result)\n",
        "        self.assertEqual(result, 4)\n",
        "\n",
        "    def test_single_step(self):\n",
        "        result = magic(25)\n",
        "        print(result)\n",
        "        self.assertEqual(result, 2)\n",
        "\n",
        "if __name__ == \"__main__\":\n",
        "    unittest.main()\n"
      ]
    },
    {
      "cell_type": "markdown",
      "metadata": {
        "id": "0nS-kIa8g8vd"
      },
      "source": [
        "# Задача 5\n",
        "Написать функцию, которая принимает два целочисленных вектора одинаковой длины и\n",
        "возвращает среднеквадратическое отклонение двух векторов. Написать тесты для кода"
      ]
    },
    {
      "cell_type": "code",
      "execution_count": null,
      "metadata": {
        "id": "8iphx4LM6xbx"
      },
      "outputs": [],
      "source": [
        "import unittest\n",
        "\n",
        "\n",
        "def mse(pred, true):\n",
        "    if len(pred) != len(true):\n",
        "        raise ValueError(\"Векторы должны иметь одинаковую длину\")\n",
        "    \n",
        "    n = len(pred)\n",
        "    return sum((p - t) ** 2 for p, t in zip(pred, true)) / n\n",
        "\n",
        "class TestMSE(unittest.TestCase):\n",
        "    def test_identical_vectors(self):\n",
        "        pred = [1, 2, 3]\n",
        "        true = [1, 2, 3]\n",
        "        result = mse(pred, true)\n",
        "        print(result)\n",
        "        self.assertEqual(result, 0.0) \n",
        "\n",
        "    def test_different_vectors(self):\n",
        "        pred = [1, 2, 3]\n",
        "        true = [4, 5, 6]\n",
        "        result = mse(pred, true)\n",
        "        print(result)\n",
        "        self.assertEqual(result, 9.0) \n",
        "\n",
        "    def test_error_on_different_length_vectors(self):\n",
        "        pred = [1, 2, 3]\n",
        "        true = [1, 2]\n",
        "        with self.assertRaises(ValueError):\n",
        "            mse(pred, true)\n",
        "\n",
        "if __name__ == \"__main__\":\n",
        "    unittest.main()\n"
      ]
    },
    {
      "cell_type": "markdown",
      "metadata": {
        "id": "vpIPKL439zkw"
      },
      "source": [
        "# Задача 6\n",
        "Написать функцию, принимающая целое положительное число. Функция должна вернуть\n",
        "строку вида “(n1**p1)(n2**p2)…(nk**pk)” представляющая разложение числа на простые\n",
        "множители (если pi == 1, то выводить только ni).\n",
        "Например, для числа 86240 функция должна вернуть “(2**5)(5)(7**2)(11)”. Написать тесты для кода"
      ]
    },
    {
      "cell_type": "code",
      "execution_count": null,
      "metadata": {
        "id": "pFebmcZk94Jw"
      },
      "outputs": [],
      "source": [
        "import unittest\n",
        "\n",
        "def prime_factorization(n: int) -> str:\n",
        "    if n < 1:\n",
        "        raise ValueError(\"Входные данные должны быть целым положительным числом\")\n",
        "\n",
        "    factors = {}\n",
        "    divisor = 2\n",
        "\n",
        "    while n >= 2:\n",
        "        while n % divisor == 0:\n",
        "            if divisor in factors:\n",
        "                factors[divisor] += 1\n",
        "            else:\n",
        "                factors[divisor] = 1\n",
        "            n //= divisor\n",
        "        divisor += 1\n",
        "\n",
        "    result = \"\"\n",
        "    for base, exponent in factors.items():\n",
        "        if exponent > 1:\n",
        "            result += f\"({base}**{exponent})\"\n",
        "        else:\n",
        "            result += f\"({base})\"\n",
        "\n",
        "    return result\n",
        "\n",
        "class TestPrimeFactorization(unittest.TestCase):\n",
        "    def test_example_case(self):\n",
        "        result = prime_factorization(86240)\n",
        "        print(result)\n",
        "        self.assertEqual(result, \"(2**5)(5)(7**2)(11)\")\n",
        "\n",
        "    def test_single_prime(self):\n",
        "        result = prime_factorization(13)\n",
        "        print(result)\n",
        "        self.assertEqual(result, \"(13)\")\n",
        "\n",
        "    def test_power_of_prime(self):\n",
        "        result = prime_factorization(27)\n",
        "        print(result)\n",
        "        self.assertEqual(result, \"(3**3)\")\n",
        "\n",
        "    def test_product_of_primes(self):\n",
        "        result = prime_factorization(30)\n",
        "        print(result)\n",
        "        self.assertEqual(result, \"(2)(3)(5)\")\n",
        "\n",
        "    def test_invalid_input(self):\n",
        "        with self.assertRaises(ValueError):\n",
        "            prime_factorization(0)\n",
        "        with self.assertRaises(ValueError):\n",
        "            prime_factorization(-5)\n",
        "\n",
        "if __name__ == \"__main__\":\n",
        "    unittest.main()\n"
      ]
    },
    {
      "cell_type": "markdown",
      "metadata": {
        "id": "ps2s0BudX7A2"
      },
      "source": [
        "# Задача 7\n",
        "Написать функцию, принимающая целое число n, задающее количество кубиков. Функция\n",
        "должна определить, можно ли из данного кол-ва кубиков построить пирамиду, то есть\n",
        "можно ли представить число n как 1^2+2^2+3^2+…+k^2. Если можно, то функция должна\n",
        "вернуть k, иначе строку “It is impossible”. Написать тесты для кода"
      ]
    },
    {
      "cell_type": "code",
      "execution_count": null,
      "metadata": {
        "id": "3YPjEXxhX_YT"
      },
      "outputs": [],
      "source": [
        "import unittest\n",
        "\n",
        "def pyramid(number: int):\n",
        "    if number < 1:\n",
        "        return \"It is impossible\"\n",
        "\n",
        "    k = 0\n",
        "    total_cubes = 0\n",
        "\n",
        "    while total_cubes < number:\n",
        "        k += 1\n",
        "        total_cubes += k ** 2\n",
        "\n",
        "    return k if total_cubes == number else \"It is impossible\"\n",
        "\n",
        "\n",
        "class TestPyramid(unittest.TestCase):\n",
        "    def test_example_case(self):\n",
        "        result = pyramid(14)\n",
        "        print(result)\n",
        "        self.assertEqual(result, 3)\n",
        "\n",
        "    def test_impossible_case(self):\n",
        "        result = pyramid(15)\n",
        "        print(result)\n",
        "        self.assertEqual(result, \"It is impossible\")\n",
        "\n",
        "    def test_single_cube(self):\n",
        "        result = pyramid(1)\n",
        "        print(result)\n",
        "        self.assertEqual(result, 1)\n",
        "\n",
        "    def test_zero_cubes(self):\n",
        "        result = pyramid(0)\n",
        "        print(result)\n",
        "        self.assertEqual(result, \"It is impossible\")\n",
        "\n",
        "    def test_negative_cubes(self):\n",
        "        result = pyramid(-5)\n",
        "        print(result)\n",
        "        self.assertEqual(result, \"It is impossible\") \n",
        "\n",
        "if __name__ == \"__main__\":\n",
        "    unittest.main()\n"
      ]
    },
    {
      "cell_type": "markdown",
      "metadata": {
        "id": "KeKgmIdAQMEJ"
      },
      "source": [
        "# Задача 8\n",
        "Функция принимает на вход положительное число и определяет является ли оно сбалансированным, т.е. сумма цифр до средних равна сумме цифр после. Средними в случае нечетного числа цифр считать одну цифру, в случае четного - две средних. Написать тесты для кода"
      ]
    },
    {
      "cell_type": "code",
      "execution_count": null,
      "metadata": {
        "id": "gMAAqtqlQrZt"
      },
      "outputs": [],
      "source": [
        "import unittest\n",
        "\n",
        "def is_balanced(number: int) -> bool:\n",
        "    if number < 1:\n",
        "        raise ValueError(\"Входные данные должны быть целым положительным числом\")\n",
        "\n",
        "    digits = str(number)\n",
        "    length = len(digits)\n",
        "\n",
        "    if length % 2 == 0:\n",
        "        mid_index = length // 2\n",
        "        left_sum = sum(int(digit) for digit in digits[:mid_index])\n",
        "        right_sum = sum(int(digit) for digit in digits[mid_index:])\n",
        "    else: \n",
        "        mid_index = length // 2\n",
        "        left_sum = sum(int(digit) for digit in digits[:mid_index])\n",
        "        right_sum = sum(int(digit) for digit in digits[mid_index + 1:])\n",
        "\n",
        "    return left_sum == right_sum\n",
        "\n",
        "class TestIsBalanced(unittest.TestCase):\n",
        "    def test_balanced_even(self):\n",
        "        result = is_balanced(123321)\n",
        "        print(result)\n",
        "        self.assertTrue(result)\n",
        "\n",
        "    def test_balanced_odd(self):\n",
        "        result = is_balanced(12321)\n",
        "        print(result)\n",
        "        self.assertTrue(result)\n",
        "\n",
        "    def test_not_balanced_even(self):\n",
        "        result = is_balanced(123456)\n",
        "        print(result)\n",
        "        self.assertFalse(result)\n",
        "\n",
        "    def test_not_balanced_odd(self):\n",
        "        result = is_balanced(12345)\n",
        "        print(result)\n",
        "        self.assertFalse(result)\n",
        "\n",
        "    def test_single_digit(self):\n",
        "        result = is_balanced(5)\n",
        "        print(result)\n",
        "        self.assertTrue(result)\n",
        "\n",
        "    def test_zero_input(self):\n",
        "        with self.assertRaises(ValueError):\n",
        "            is_balanced(0)\n",
        "\n",
        "    def test_negative_input(self):\n",
        "        with self.assertRaises(ValueError):\n",
        "            is_balanced(-123)\n",
        "\n",
        "if __name__ == \"__main__\":\n",
        "    unittest.main()\n"
      ]
    }
  ],
  "metadata": {
    "colab": {
      "provenance": []
    },
    "kernelspec": {
      "display_name": "Python 3",
      "name": "python3"
    },
    "language_info": {
      "codemirror_mode": {
        "name": "ipython",
        "version": 3
      },
      "file_extension": ".py",
      "mimetype": "text/x-python",
      "name": "python",
      "nbconvert_exporter": "python",
      "pygments_lexer": "ipython3",
      "version": "3.11.3"
    }
  },
  "nbformat": 4,
  "nbformat_minor": 0
}
